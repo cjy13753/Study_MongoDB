{
 "metadata": {
  "language_info": {
   "codemirror_mode": {
    "name": "ipython",
    "version": 3
   },
   "file_extension": ".py",
   "mimetype": "text/x-python",
   "name": "python",
   "nbconvert_exporter": "python",
   "pygments_lexer": "ipython3",
   "version": "3.8.5-final"
  },
  "orig_nbformat": 2,
  "kernelspec": {
   "name": "python3",
   "display_name": "Python 3",
   "language": "python"
  }
 },
 "nbformat": 4,
 "nbformat_minor": 2,
 "cells": [
  {
   "source": [
    "# Introduction to MongoDB in Python\n",
    "## 1. Flexbily Structured Data"
   ],
   "cell_type": "markdown",
   "metadata": {}
  },
  {
   "cell_type": "code",
   "execution_count": 2,
   "metadata": {},
   "outputs": [],
   "source": [
    "import os\n",
    "from pymongo import MongoClient\n",
    "from operator import itemgetter\n",
    "from collections import Counter\n",
    "\n",
    "MONGODB_URI = os.getenv('MONGODB_URI')\n",
    "\n",
    "client = MongoClient(MONGODB_URI)\n",
    "db = client[\"nobel\"]"
   ]
  },
  {
   "cell_type": "code",
   "execution_count": 2,
   "metadata": {},
   "outputs": [
    {
     "output_type": "stream",
     "name": "stdout",
     "text": [
      "652\n955\n"
     ]
    }
   ],
   "source": [
    "filter = {}\n",
    "print(db.prizes.count_documents(filter))\n",
    "print(db.laureates.count_documents(filter))"
   ]
  },
  {
   "cell_type": "code",
   "execution_count": 3,
   "metadata": {},
   "outputs": [
    {
     "output_type": "execute_result",
     "data": {
      "text/plain": [
       "['admin', 'config', 'local', 'nobel']"
      ]
     },
     "metadata": {},
     "execution_count": 3
    }
   ],
   "source": [
    "db_names = client.list_database_names()\n",
    "db_names"
   ]
  },
  {
   "cell_type": "code",
   "execution_count": 4,
   "metadata": {},
   "outputs": [
    {
     "output_type": "execute_result",
     "data": {
      "text/plain": [
       "['prizes', 'laureates']"
      ]
     },
     "metadata": {},
     "execution_count": 4
    }
   ],
   "source": [
    "nobel_coll_names = client.nobel.list_collection_names()\n",
    "nobel_coll_names"
   ]
  },
  {
   "cell_type": "code",
   "execution_count": 5,
   "metadata": {},
   "outputs": [
    {
     "output_type": "stream",
     "name": "stdout",
     "text": [
      "{'_id': ObjectId('5ffa97fa9d6167d9d146dd5d'), 'year': '2020', 'category': 'chemistry', 'laureates': [{'id': '991', 'firstname': 'Emmanuelle', 'surname': 'Charpentier', 'motivation': '\"for the development of a method for genome editing\"', 'share': '2'}, {'id': '992', 'firstname': 'Jennifer A.', 'surname': 'Doudna', 'motivation': '\"for the development of a method for genome editing\"', 'share': '2'}]}\n{'_id': ObjectId('5ffa982f9d6167d9d146dfe9'), 'id': '1', 'firstname': 'Wilhelm Conrad', 'surname': 'Röntgen', 'born': '1845-03-27', 'died': '1923-02-10', 'bornCountry': 'Prussia (now Germany)', 'bornCountryCode': 'DE', 'bornCity': 'Lennep (now Remscheid)', 'diedCountry': 'Germany', 'diedCountryCode': 'DE', 'diedCity': 'Munich', 'gender': 'male', 'prizes': [{'year': '1901', 'category': 'physics', 'share': '1', 'motivation': '\"in recognition of the extraordinary services he has rendered by the discovery of the remarkable rays subsequently named after him\"', 'affiliations': [{'name': 'Munich University', 'city': 'Munich', 'country': 'Germany'}]}]}\n<class 'dict'>\n"
     ]
    }
   ],
   "source": [
    "prize = db.prizes.find_one()\n",
    "laureate = db.laureates.find_one()\n",
    "\n",
    "print(prize)\n",
    "print(laureate)\n",
    "print(type(laureate))"
   ]
  },
  {
   "cell_type": "code",
   "execution_count": 6,
   "metadata": {},
   "outputs": [
    {
     "output_type": "stream",
     "name": "stdout",
     "text": [
      "['_id', 'year', 'category', 'laureates']\n['_id', 'id', 'firstname', 'surname', 'born', 'died', 'bornCountry', 'bornCountryCode', 'bornCity', 'diedCountry', 'diedCountryCode', 'diedCity', 'gender', 'prizes']\n"
     ]
    }
   ],
   "source": [
    "prize_fields = list(prize.keys())\n",
    "laureate_fields = list(laureate.keys())\n",
    "\n",
    "print(prize_fields)\n",
    "print(laureate_fields)"
   ]
  },
  {
   "source": [
    "## 2. Working with Distinct Values and Sets"
   ],
   "cell_type": "markdown",
   "metadata": {}
  },
  {
   "cell_type": "code",
   "execution_count": 7,
   "metadata": {},
   "outputs": [
    {
     "output_type": "execute_result",
     "data": {
      "text/plain": [
       "{'chemistry', 'economics', 'literature', 'medicine', 'peace', 'physics'}"
      ]
     },
     "metadata": {},
     "execution_count": 7
    }
   ],
   "source": [
    "set(db.prizes.distinct(\"category\"))"
   ]
  },
  {
   "cell_type": "code",
   "execution_count": 8,
   "metadata": {},
   "outputs": [
    {
     "output_type": "execute_result",
     "data": {
      "text/plain": [
       "{'chemistry', 'economics', 'literature', 'medicine', 'peace', 'physics'}"
      ]
     },
     "metadata": {},
     "execution_count": 8
    }
   ],
   "source": [
    "set(db.laureates.distinct(\"prizes.category\"))"
   ]
  },
  {
   "cell_type": "code",
   "execution_count": 9,
   "metadata": {},
   "outputs": [
    {
     "output_type": "execute_result",
     "data": {
      "text/plain": [
       "True"
      ]
     },
     "metadata": {},
     "execution_count": 9
    }
   ],
   "source": [
    "set(db.prizes.distinct(\"category\")) == set(db.laureates.distinct(\"prizes.category\"))\n"
   ]
  },
  {
   "cell_type": "code",
   "execution_count": 10,
   "metadata": {},
   "outputs": [
    {
     "output_type": "execute_result",
     "data": {
      "text/plain": [
       "{'Barbados',\n",
       " 'East Germany (now Germany)',\n",
       " 'Gabon',\n",
       " 'Greece',\n",
       " 'Israel',\n",
       " 'Jamaica',\n",
       " 'Northern Rhodesia (now Zambia)',\n",
       " 'Philippines',\n",
       " 'Puerto Rico',\n",
       " 'Singapore',\n",
       " 'Tunisia',\n",
       " 'Yugoslavia (now Serbia)'}"
      ]
     },
     "metadata": {},
     "execution_count": 10
    }
   ],
   "source": [
    "countries = set(db.laureates.distinct(\"diedCountry\")) - set(db.laureates.distinct(\"bornCountry\"))\n",
    "countries"
   ]
  },
  {
   "cell_type": "code",
   "execution_count": 11,
   "metadata": {},
   "outputs": [
    {
     "output_type": "execute_result",
     "data": {
      "text/plain": [
       "{'_id': ObjectId('5ffa982f9d6167d9d146dfe9'),\n",
       " 'id': '1',\n",
       " 'firstname': 'Wilhelm Conrad',\n",
       " 'surname': 'Röntgen',\n",
       " 'born': '1845-03-27',\n",
       " 'died': '1923-02-10',\n",
       " 'bornCountry': 'Prussia (now Germany)',\n",
       " 'bornCountryCode': 'DE',\n",
       " 'bornCity': 'Lennep (now Remscheid)',\n",
       " 'diedCountry': 'Germany',\n",
       " 'diedCountryCode': 'DE',\n",
       " 'diedCity': 'Munich',\n",
       " 'gender': 'male',\n",
       " 'prizes': [{'year': '1901',\n",
       "   'category': 'physics',\n",
       "   'share': '1',\n",
       "   'motivation': '\"in recognition of the extraordinary services he has rendered by the discovery of the remarkable rays subsequently named after him\"',\n",
       "   'affiliations': [{'name': 'Munich University',\n",
       "     'city': 'Munich',\n",
       "     'country': 'Germany'}]}]}"
      ]
     },
     "metadata": {},
     "execution_count": 11
    }
   ],
   "source": [
    "db.laureates.find_one()"
   ]
  },
  {
   "cell_type": "code",
   "execution_count": 12,
   "metadata": {},
   "outputs": [
    {
     "output_type": "execute_result",
     "data": {
      "text/plain": [
       "{'Argentina',\n",
       " 'Australia',\n",
       " 'Austria',\n",
       " 'Belgium',\n",
       " 'Canada',\n",
       " 'China',\n",
       " 'Czechoslovakia (now Czech Republic)',\n",
       " 'Denmark',\n",
       " 'Finland',\n",
       " 'France',\n",
       " 'Germany',\n",
       " 'Germany (now France)',\n",
       " 'Hungary',\n",
       " 'India',\n",
       " 'Ireland',\n",
       " 'Israel',\n",
       " 'Italy',\n",
       " 'Japan',\n",
       " 'Norway',\n",
       " 'Portugal',\n",
       " 'Russia',\n",
       " 'Spain',\n",
       " 'Sweden',\n",
       " 'Switzerland',\n",
       " 'Tunisia',\n",
       " 'USA',\n",
       " 'USSR (now Russia)',\n",
       " 'United Kingdom',\n",
       " 'the Netherlands'}"
      ]
     },
     "metadata": {},
     "execution_count": 12
    }
   ],
   "source": [
    "set(db.laureates.distinct(\"prizes.affiliations.country\"))"
   ]
  },
  {
   "cell_type": "code",
   "execution_count": 13,
   "metadata": {},
   "outputs": [
    {
     "output_type": "execute_result",
     "data": {
      "text/plain": [
       "{'_id': ObjectId('5ffa982f9d6167d9d146dfe9'),\n",
       " 'id': '1',\n",
       " 'firstname': 'Wilhelm Conrad',\n",
       " 'surname': 'Röntgen',\n",
       " 'born': '1845-03-27',\n",
       " 'died': '1923-02-10',\n",
       " 'bornCountry': 'Prussia (now Germany)',\n",
       " 'bornCountryCode': 'DE',\n",
       " 'bornCity': 'Lennep (now Remscheid)',\n",
       " 'diedCountry': 'Germany',\n",
       " 'diedCountryCode': 'DE',\n",
       " 'diedCity': 'Munich',\n",
       " 'gender': 'male',\n",
       " 'prizes': [{'year': '1901',\n",
       "   'category': 'physics',\n",
       "   'share': '1',\n",
       "   'motivation': '\"in recognition of the extraordinary services he has rendered by the discovery of the remarkable rays subsequently named after him\"',\n",
       "   'affiliations': [{'name': 'Munich University',\n",
       "     'city': 'Munich',\n",
       "     'country': 'Germany'}]}]}"
      ]
     },
     "metadata": {},
     "execution_count": 13
    }
   ],
   "source": [
    "db.laureates.find_one()"
   ]
  },
  {
   "cell_type": "code",
   "execution_count": 14,
   "metadata": {},
   "outputs": [
    {
     "output_type": "execute_result",
     "data": {
      "text/plain": [
       "['Australia', 'Denmark', 'USA', 'United Kingdom']"
      ]
     },
     "metadata": {},
     "execution_count": 14
    }
   ],
   "source": [
    "# In which countries have USA-born laureates had affiliations for their prizes?\n",
    "db.laureates.distinct(\"prizes.affiliations.country\", {\"bornCountry\": \"USA\"})"
   ]
  },
  {
   "cell_type": "code",
   "execution_count": 15,
   "metadata": {},
   "outputs": [],
   "source": [
    "# Confirm via an assertion that \"literature\" is the only prize category with no prizes shared by three or more laureates.\n",
    "criteria = {\"laureates.2\": {\"$exists\": True}}\n",
    "triple_play_categories = set(db.prizes.distinct(\"category\", criteria))\n",
    "assert set(['literature']) == set(db.prizes.distinct(\"category\")) - triple_play_categories\n"
   ]
  },
  {
   "source": [
    "# What is the approximate ratio of the number of laureates who won an unshared ({\"share\": \"1\"}) prize in physics after World War II ({\"year\": {\"$gte\": \"1945\"}}) to the number of laureates who won a shared prize in physics after World War II?\n",
    "a = db.laureates.count_documents({\"prizes\": {\"$elemMatch\": {\"share\": \"1\", \"category\": \"physics\", \"year\": {\"$gte\": \"1945\"}}}})\n",
    "b = db.laureates.count_documents({\"prizes\": {\"$elemMatch\": {\"share\": {\"$ne\": \"1\"}, \"category\": \"physics\", \"year\": {\"$gte\": \"1945\"}}}})\n",
    "a/b"
   ],
   "cell_type": "code",
   "metadata": {},
   "execution_count": 16,
   "outputs": [
    {
     "output_type": "execute_result",
     "data": {
      "text/plain": [
       "0.12080536912751678"
      ]
     },
     "metadata": {},
     "execution_count": 16
    }
   ]
  },
  {
   "cell_type": "code",
   "execution_count": 17,
   "metadata": {},
   "outputs": [
    {
     "output_type": "execute_result",
     "data": {
      "text/plain": [
       "1.348623853211009"
      ]
     },
     "metadata": {},
     "execution_count": 17
    }
   ],
   "source": [
    "# What is this ratio for prize categories other than physics, chemistry, and medicine?\n",
    "unshared = {\"prizes\": {\"$elemMatch\": {\"share\": \"1\", \"category\": {\"$nin\": [\"physics\", \"chemistry\", \"medicine\"]}, \"year\": {\"$gte\": \"1945\"}}}}\n",
    "shared = {\"prizes\": {\"$elemMatch\": {\"share\": {\"$ne\": \"1\"}, \"category\": {\"$nin\": [\"physics\", \"chemistry\", \"medicine\"]}, \"year\": {\"$gte\": \"1945\"}}}}\n",
    "count_unshared = db.laureates.count_documents(unshared)\n",
    "count_shared = db.laureates.count_documents(shared)\n",
    "ratio = count_unshared / count_shared\n",
    "ratio"
   ]
  },
  {
   "cell_type": "code",
   "execution_count": 18,
   "metadata": {},
   "outputs": [
    {
     "output_type": "execute_result",
     "data": {
      "text/plain": [
       "0.8461538461538461"
      ]
     },
     "metadata": {},
     "execution_count": 18
    }
   ],
   "source": [
    "before = {\"gender\": \"org\", \"prizes.year\": {\"$lt\": \"1945\"}}\n",
    "in_or_after = {\"gender\": \"org\", \"prizes.year\": {\"$gte\": \"1945\"}}\n",
    "count_before = db.laureates.count_documents(before)\n",
    "count_in_or_after = db.laureates.count_documents(in_or_after)\n",
    "ratio = count_in_or_after / (count_before + count_in_or_after)\n",
    "ratio"
   ]
  },
  {
   "cell_type": "code",
   "execution_count": 19,
   "metadata": {},
   "outputs": [
    {
     "output_type": "execute_result",
     "data": {
      "text/plain": [
       "10"
      ]
     },
     "metadata": {},
     "execution_count": 19
    }
   ],
   "source": [
    "# How many laureates in total have a first name beginning with \"G\" and a surname beginning with \"S\"?\n",
    "from bson.regex import Regex\n",
    "db.laureates.count_documents({\"firstname\": Regex(\"^G\"), \"surname\": Regex(\"^S\")})"
   ]
  },
  {
   "cell_type": "code",
   "execution_count": 20,
   "metadata": {},
   "outputs": [
    {
     "output_type": "execute_result",
     "data": {
      "text/plain": [
       "{'Bavaria (now Germany)',\n",
       " 'East Friesland (now Germany)',\n",
       " 'Germany',\n",
       " 'Germany (now France)',\n",
       " 'Germany (now Poland)',\n",
       " 'Germany (now Russia)',\n",
       " 'Hesse-Kassel (now Germany)',\n",
       " 'Mecklenburg (now Germany)',\n",
       " 'Prussia (now Germany)',\n",
       " 'Schleswig (now Germany)',\n",
       " 'West Germany (now Germany)',\n",
       " 'Württemberg (now Germany)'}"
      ]
     },
     "metadata": {},
     "execution_count": 20
    }
   ],
   "source": [
    "# Use a regular expression object to filter for laureates with \"Germany\" in their \"bornCountry\" value.\n",
    "criteria = {\"bornCountry\": Regex(\"Germany\")}\n",
    "set(db.laureates.distinct(\"bornCountry\", criteria))"
   ]
  },
  {
   "cell_type": "code",
   "execution_count": 21,
   "metadata": {},
   "outputs": [
    {
     "output_type": "execute_result",
     "data": {
      "text/plain": [
       "{'Germany',\n",
       " 'Germany (now France)',\n",
       " 'Germany (now Poland)',\n",
       " 'Germany (now Russia)'}"
      ]
     },
     "metadata": {},
     "execution_count": 21
    }
   ],
   "source": [
    "# Use a regular expression object to filter for laureates with a \"bornCountry\" value starting with \"Germany\".\n",
    "criteria = {\"bornCountry\": Regex(\"^Germany\")}\n",
    "set(db.laureates.distinct(\"bornCountry\", criteria))"
   ]
  },
  {
   "cell_type": "code",
   "execution_count": 22,
   "metadata": {},
   "outputs": [
    {
     "output_type": "execute_result",
     "data": {
      "text/plain": [
       "{'Germany (now France)', 'Germany (now Poland)', 'Germany (now Russia)'}"
      ]
     },
     "metadata": {},
     "execution_count": 22
    }
   ],
   "source": [
    "# Use a regular expression object to filter for laureates born in what was at the time Germany but is now another country.\n",
    "criteria = {\"bornCountry\": Regex(\"^Germany \\(now\")}\n",
    "set(db.laureates.distinct(\"bornCountry\", criteria))"
   ]
  },
  {
   "cell_type": "code",
   "execution_count": 23,
   "metadata": {},
   "outputs": [
    {
     "output_type": "execute_result",
     "data": {
      "text/plain": [
       "{'Bavaria (now Germany)',\n",
       " 'East Friesland (now Germany)',\n",
       " 'Hesse-Kassel (now Germany)',\n",
       " 'Mecklenburg (now Germany)',\n",
       " 'Prussia (now Germany)',\n",
       " 'Schleswig (now Germany)',\n",
       " 'West Germany (now Germany)',\n",
       " 'Württemberg (now Germany)'}"
      ]
     },
     "metadata": {},
     "execution_count": 23
    }
   ],
   "source": [
    "# Use a regular expression object to filter for laureates born in what is now Germany but at the time was another country.\n",
    "criteria = {\"bornCountry\": Regex(\"now Germany\\)$\")}\n",
    "set(db.laureates.distinct(\"bornCountry\", criteria))"
   ]
  },
  {
   "cell_type": "code",
   "execution_count": 24,
   "metadata": {},
   "outputs": [
    {
     "output_type": "stream",
     "name": "stdout",
     "text": [
      "[('William B.', 'Shockley'), ('John', 'Bardeen'), ('Walter H.', 'Brattain')]\n"
     ]
    }
   ],
   "source": [
    "# We can filter on \"transistor\" as a substring of a laureate's \"prizes.motivation\" field value to find these laureates.\n",
    "criteria = {\"prizes.motivation\": Regex(\"transistor\")}\n",
    "first = \"firstname\"\n",
    "last = \"surname\"\n",
    "print([(laureate[first], laureate[last]) for laureate in db.laureates.find(criteria)])"
   ]
  },
  {
   "source": [
    "## 3. Get Only What You Need, and Fast"
   ],
   "cell_type": "markdown",
   "metadata": {}
  },
  {
   "cell_type": "code",
   "execution_count": 25,
   "metadata": {},
   "outputs": [
    {
     "output_type": "execute_result",
     "data": {
      "text/plain": [
       "{'_id': ObjectId('5ffa982f9d6167d9d146dfe9'),\n",
       " 'id': '1',\n",
       " 'firstname': 'Wilhelm Conrad',\n",
       " 'surname': 'Röntgen',\n",
       " 'born': '1845-03-27',\n",
       " 'died': '1923-02-10',\n",
       " 'bornCountry': 'Prussia (now Germany)',\n",
       " 'bornCountryCode': 'DE',\n",
       " 'bornCity': 'Lennep (now Remscheid)',\n",
       " 'diedCountry': 'Germany',\n",
       " 'diedCountryCode': 'DE',\n",
       " 'diedCity': 'Munich',\n",
       " 'gender': 'male',\n",
       " 'prizes': [{'year': '1901',\n",
       "   'category': 'physics',\n",
       "   'share': '1',\n",
       "   'motivation': '\"in recognition of the extraordinary services he has rendered by the discovery of the remarkable rays subsequently named after him\"',\n",
       "   'affiliations': [{'name': 'Munich University',\n",
       "     'city': 'Munich',\n",
       "     'country': 'Germany'}]}]}"
      ]
     },
     "metadata": {},
     "execution_count": 25
    }
   ],
   "source": [
    "db.laureates.find_one()"
   ]
  },
  {
   "cell_type": "code",
   "execution_count": 26,
   "metadata": {},
   "outputs": [
    {
     "output_type": "execute_result",
     "data": {
      "text/plain": [
       "{'firstname': 'Henri', 'surname': 'Becquerel', 'prizes': [{'share': '2'}]}"
      ]
     },
     "metadata": {},
     "execution_count": 26
    }
   ],
   "source": [
    "# fetch ONLY the laureates' full names and prize share info?\n",
    "db.laureates.find_one(filter={\"prizes\": {\"$elemMatch\": {\"category\": \"physics\", \"year\": \"1903\"}}}, projection={\"firstname\": 1, \"surname\":1, \"prizes.share\":1, \"_id\":0})\n"
   ]
  },
  {
   "cell_type": "code",
   "execution_count": 27,
   "metadata": {},
   "outputs": [
    {
     "output_type": "execute_result",
     "data": {
      "text/plain": [
       "['Glenn T. Seaborg',\n",
       " 'George D. Snell',\n",
       " 'Gustav Stresemann',\n",
       " 'George Bernard Shaw',\n",
       " 'Giorgos Seferis',\n",
       " 'George J. Stigler',\n",
       " 'George F. Smoot',\n",
       " 'George E. Smith',\n",
       " 'George P. Smith',\n",
       " 'Gregg Semenza']"
      ]
     },
     "metadata": {},
     "execution_count": 27
    }
   ],
   "source": [
    "docs = db.laureates.find(filter={\"firstname\": {\"$regex\": \"^G\"}, \"surname\": {\"$regex\": \"^S\"}}, projection={\"firstname\": 1, \"surname\": 1, \"_id\": 0})\n",
    "full_name_list = [doc[\"firstname\"]+\" \"+ doc[\"surname\"] for doc in docs]\n",
    "full_name_list"
   ]
  },
  {
   "cell_type": "code",
   "execution_count": 53,
   "metadata": {},
   "outputs": [
    {
     "output_type": "stream",
     "name": "stdout",
     "text": [
      "1.0\n",
      "1.0\n",
      "1.0\n",
      "1.0\n",
      "1.0\n",
      "1.0\n",
      "1.0\n",
      "1.0\n",
      "1.0\n",
      "1.0\n",
      "1.0\n",
      "1.0\n",
      "1.0\n",
      "1.0\n",
      "1.0\n",
      "1.0\n",
      "1.0\n",
      "1.0\n",
      "1.0\n",
      "1.0\n",
      "1.0\n",
      "1.0\n",
      "1.0\n",
      "1.0\n",
      "1.0\n",
      "1.0\n",
      "1.0\n",
      "1.0\n",
      "1.0\n",
      "1.0\n",
      "1.0\n",
      "1.0\n",
      "1.0\n",
      "1.0\n",
      "1.0\n",
      "1.0\n",
      "1.0\n",
      "1.0\n",
      "1.0\n",
      "1.0\n",
      "1.0\n",
      "1.0\n",
      "1.0\n",
      "1.0\n",
      "1.0\n",
      "1.0\n",
      "1.0\n",
      "1.0\n",
      "1.0\n",
      "1.0\n",
      "1.0\n",
      "1.0\n",
      "1.0\n",
      "1.0\n",
      "1.0\n",
      "1.0\n",
      "1.0\n",
      "1.0\n",
      "1.0\n",
      "1.0\n",
      "1.0\n",
      "1.0\n",
      "1.0\n",
      "1.0\n",
      "1.0\n",
      "1.0\n",
      "1.0\n",
      "1.0\n",
      "1.0\n",
      "1.0\n",
      "1.0\n",
      "1.0\n",
      "1.0\n",
      "1.0\n",
      "1.0\n",
      "1.0\n",
      "1.0\n",
      "1.0\n",
      "1.0\n",
      "1.0\n",
      "1.0\n",
      "1.0\n",
      "1.0\n",
      "1.0\n",
      "1.0\n",
      "1.0\n",
      "1.0\n",
      "1.0\n",
      "1.0\n",
      "1.0\n",
      "1.0\n",
      "1.0\n",
      "1.0\n",
      "1.0\n",
      "1.0\n",
      "1.0\n",
      "1.0\n",
      "1.0\n",
      "1.0\n",
      "1.0\n",
      "1.0\n",
      "1.0\n",
      "1.0\n",
      "1.0\n",
      "1.0\n",
      "1.0\n",
      "1.0\n",
      "1.0\n",
      "1.0\n",
      "1.0\n",
      "1.0\n",
      "1.0\n",
      "1.0\n",
      "1.0\n",
      "1.0\n",
      "1.0\n",
      "1.0\n",
      "1.0\n",
      "1.0\n",
      "1.0\n",
      "1.0\n",
      "1.0\n",
      "1.0\n",
      "1.0\n",
      "1.0\n",
      "1.0\n",
      "1.0\n",
      "1.0\n",
      "1.0\n",
      "1.0\n",
      "1.0\n",
      "1.0\n",
      "1.0\n",
      "1.0\n",
      "1.0\n",
      "1.0\n",
      "1.0\n",
      "1.0\n",
      "1.0\n",
      "1.0\n",
      "1.0\n",
      "1.0\n",
      "1.0\n",
      "1.0\n",
      "1.0\n",
      "1.0\n",
      "1.0\n",
      "1.0\n",
      "1.0\n",
      "1.0\n",
      "1.0\n",
      "1.0\n",
      "1.0\n",
      "1.0\n",
      "1.0\n",
      "1.0\n",
      "1.0\n",
      "1.0\n",
      "1.0\n",
      "1.0\n",
      "1.0\n",
      "1.0\n",
      "1.0\n",
      "1.0\n",
      "1.0\n",
      "1.0\n",
      "1.0\n",
      "1.0\n",
      "1.0\n",
      "1.0\n",
      "1.0\n",
      "1.0\n",
      "1.0\n",
      "1.0\n",
      "1.0\n",
      "1.0\n",
      "1.0\n",
      "1.0\n",
      "1.0\n",
      "1.0\n",
      "1.0\n",
      "1.0\n",
      "1.0\n",
      "1.0\n",
      "1.0\n",
      "1.0\n",
      "1.0\n",
      "1.0\n",
      "1.0\n",
      "1.0\n",
      "1.0\n",
      "1.0\n",
      "1.0\n",
      "1.0\n",
      "1.0\n",
      "1.0\n",
      "1.0\n",
      "1.0\n",
      "1.0\n",
      "1.0\n",
      "1.0\n",
      "1.0\n",
      "1.0\n",
      "1.0\n",
      "1.0\n",
      "1.0\n",
      "1.0\n",
      "1.0\n",
      "1.0\n",
      "1.0\n",
      "1.0\n",
      "1.0\n",
      "1.0\n",
      "1.0\n",
      "1.0\n",
      "1.0\n",
      "1.0\n",
      "1.0\n",
      "1.0\n",
      "1.0\n",
      "1.0\n",
      "1.0\n",
      "1.0\n",
      "1.0\n",
      "1.0\n",
      "1.0\n",
      "1.0\n",
      "1.0\n",
      "1.0\n",
      "1.0\n",
      "1.0\n",
      "1.0\n",
      "1.0\n",
      "1.0\n",
      "1.0\n",
      "1.0\n",
      "1.0\n",
      "1.0\n",
      "1.0\n",
      "1.0\n",
      "1.0\n",
      "1.0\n",
      "1.0\n",
      "1.0\n",
      "1.0\n",
      "1.0\n",
      "1.0\n",
      "1.0\n",
      "1.0\n",
      "1.0\n",
      "1.0\n",
      "1.0\n",
      "1.0\n",
      "1.0\n",
      "1.0\n",
      "1.0\n",
      "1.0\n",
      "1.0\n",
      "1.0\n",
      "1.0\n",
      "1.0\n",
      "1.0\n",
      "1.0\n",
      "1.0\n",
      "1.0\n",
      "1.0\n",
      "1.0\n",
      "1.0\n",
      "1.0\n",
      "1.0\n",
      "1.0\n",
      "1.0\n",
      "1.0\n",
      "1.0\n",
      "1.0\n",
      "1.0\n",
      "1.0\n",
      "1.0\n",
      "1.0\n",
      "1.0\n",
      "1.0\n",
      "1.0\n",
      "1.0\n",
      "1.0\n",
      "1.0\n",
      "1.0\n",
      "1.0\n",
      "1.0\n",
      "1.0\n",
      "1.0\n",
      "1.0\n",
      "1.0\n",
      "1.0\n",
      "1.0\n",
      "1.0\n",
      "1.0\n",
      "1.0\n",
      "1.0\n",
      "1.0\n",
      "1.0\n",
      "1.0\n",
      "1.0\n",
      "1.0\n",
      "1.0\n",
      "1.0\n",
      "1.0\n",
      "1.0\n",
      "1.0\n",
      "1.0\n",
      "1.0\n",
      "1.0\n",
      "1.0\n",
      "1.0\n",
      "1.0\n",
      "1.0\n",
      "1.0\n",
      "1.0\n",
      "1.0\n",
      "1.0\n",
      "1.0\n",
      "1.0\n",
      "1.0\n",
      "1.0\n",
      "1.0\n",
      "1.0\n",
      "1.0\n",
      "1.0\n",
      "1.0\n",
      "1.0\n",
      "1.0\n",
      "1.0\n",
      "1.0\n",
      "1.0\n",
      "1.0\n",
      "1.0\n",
      "1.0\n",
      "1.0\n",
      "1.0\n",
      "1.0\n",
      "1.0\n",
      "1.0\n",
      "1.0\n",
      "1.0\n",
      "1.0\n",
      "1.0\n",
      "1.0\n",
      "1.0\n",
      "1.0\n",
      "1.0\n",
      "1.0\n",
      "1.0\n",
      "1.0\n",
      "1.0\n",
      "1.0\n",
      "1.0\n",
      "1.0\n",
      "1.0\n",
      "1.0\n",
      "1.0\n",
      "1.0\n",
      "1.0\n",
      "1.0\n",
      "1.0\n",
      "1.0\n",
      "1.0\n",
      "1.0\n",
      "1.0\n",
      "1.0\n",
      "1.0\n",
      "1.0\n",
      "1.0\n",
      "1.0\n",
      "1.0\n",
      "1.0\n",
      "1.0\n",
      "1.0\n",
      "1.0\n",
      "1.0\n",
      "1.0\n",
      "1.0\n",
      "1.0\n",
      "1.0\n",
      "1.0\n",
      "1.0\n",
      "1.0\n",
      "1.0\n",
      "1.0\n",
      "1.0\n",
      "1.0\n",
      "1.0\n",
      "1.0\n",
      "1.0\n",
      "1.0\n",
      "1.0\n",
      "1.0\n",
      "1.0\n",
      "1.0\n",
      "1.0\n",
      "1.0\n",
      "1.0\n",
      "1.0\n",
      "1.0\n",
      "1.0\n",
      "1.0\n",
      "1.0\n",
      "1.0\n",
      "1.0\n",
      "1.0\n",
      "1.0\n",
      "1.0\n",
      "1.0\n",
      "1.0\n",
      "1.0\n",
      "1.0\n",
      "1.0\n",
      "1.0\n",
      "1.0\n",
      "1.0\n",
      "1.0\n",
      "1.0\n",
      "1.0\n",
      "1.0\n",
      "1.0\n",
      "1.0\n",
      "1.0\n",
      "1.0\n",
      "1.0\n",
      "1.0\n",
      "1.0\n",
      "1.0\n",
      "1.0\n",
      "1.0\n",
      "1.0\n",
      "1.0\n",
      "1.0\n",
      "1.0\n",
      "1.0\n",
      "1.0\n",
      "1.0\n",
      "1.0\n",
      "1.0\n",
      "1.0\n",
      "1.0\n",
      "1.0\n",
      "1.0\n",
      "1.0\n",
      "1.0\n",
      "1.0\n",
      "1.0\n",
      "1.0\n",
      "1.0\n",
      "1.0\n",
      "1.0\n",
      "1.0\n",
      "1.0\n",
      "1.0\n",
      "1.0\n",
      "1.0\n",
      "1.0\n",
      "1.0\n",
      "1.0\n",
      "1.0\n",
      "1.0\n",
      "1.0\n",
      "1.0\n",
      "1.0\n",
      "1.0\n",
      "1.0\n",
      "1.0\n",
      "1.0\n",
      "1.0\n",
      "1.0\n",
      "1.0\n",
      "1.0\n",
      "1.0\n",
      "1.0\n",
      "1.0\n",
      "1.0\n",
      "1.0\n",
      "1.0\n",
      "1.0\n",
      "1.0\n",
      "1.0\n",
      "1.0\n",
      "1.0\n",
      "1.0\n",
      "1.0\n",
      "1.0\n",
      "1.0\n",
      "1.0\n",
      "1.0\n",
      "1.0\n",
      "1.0\n",
      "1.0\n",
      "1.0\n",
      "1.0\n",
      "1.0\n",
      "1.0\n",
      "1.0\n",
      "1.0\n",
      "1.0\n",
      "1.0\n",
      "1.0\n",
      "1.0\n",
      "1.0\n",
      "1.0\n",
      "1.0\n",
      "1.0\n",
      "1.0\n",
      "1.0\n",
      "1.0\n",
      "1.0\n",
      "1.0\n",
      "1.0\n",
      "1.0\n",
      "1.0\n",
      "1.0\n",
      "1.0\n",
      "1.0\n",
      "1.0\n",
      "1.0\n",
      "1.0\n",
      "1.0\n",
      "1.0\n",
      "1.0\n",
      "1.0\n",
      "1.0\n",
      "1.0\n",
      "1.0\n",
      "1.0\n",
      "1.0\n",
      "1.0\n",
      "1.0\n",
      "1.0\n",
      "1.0\n",
      "1.0\n",
      "1.0\n",
      "1.0\n",
      "1.0\n",
      "1.0\n",
      "1.0\n",
      "1.0\n",
      "1.0\n",
      "1.0\n",
      "1.0\n",
      "1.0\n",
      "1.0\n",
      "1.0\n",
      "1.0\n",
      "1.0\n",
      "1.0\n",
      "1.0\n",
      "1.0\n",
      "1.0\n",
      "1.0\n",
      "1.0\n",
      "1.0\n",
      "1.0\n",
      "1.0\n",
      "1.0\n",
      "1.0\n",
      "1.0\n",
      "1.0\n",
      "1.0\n",
      "1.0\n",
      "1.0\n",
      "1.0\n",
      "1.0\n",
      "1.0\n",
      "1.0\n",
      "1.0\n",
      "1.0\n",
      "1.0\n",
      "1.0\n",
      "1.0\n",
      "1.0\n",
      "1.0\n",
      "1.0\n",
      "1.0\n",
      "1.0\n",
      "1.0\n",
      "1.0\n",
      "1.0\n",
      "1.0\n",
      "1.0\n",
      "1.0\n",
      "1.0\n",
      "1.0\n",
      "1.0\n",
      "1.0\n",
      "1.0\n",
      "1.0\n",
      "1.0\n",
      "1.0\n",
      "1.0\n",
      "1.0\n",
      "1.0\n",
      "1.0\n",
      "1.0\n",
      "1.0\n",
      "1.0\n",
      "1.0\n",
      "1.0\n"
     ]
    }
   ],
   "source": [
    "# check that for each prize, all the shares of all the laureates add up to 1\n",
    "docs = db.prizes.find(filter={\"laureates.0\": {\"$exists\": True}}, projection={\"laureates.share\": 1, \"_id\": 0})\n",
    "for doc in docs:\n",
    "    each = doc['laureates']\n",
    "    sum = 0\n",
    "    for i in range(len(each)):\n",
    "        share = int(each[i][\"share\"])\n",
    "        sum += 1 / share\n",
    "    print(sum)"
   ]
  },
  {
   "cell_type": "code",
   "execution_count": 57,
   "metadata": {},
   "outputs": [
    {
     "output_type": "stream",
     "name": "stdout",
     "text": [
      "{'born': '1950-12-14', 'prizes': [{'year': '1954'}, {'year': '1981'}]}\n{'born': '1916-08-25', 'prizes': [{'year': '1954'}]}\n{'born': '1915-06-15', 'prizes': [{'year': '1954'}]}\n{'born': '1901-02-28', 'prizes': [{'year': '1962'}, {'year': '1954'}]}\n{'born': '1913-07-12', 'prizes': [{'year': '1955'}]}\n"
     ]
    }
   ],
   "source": [
    "docs = list(db.laureates.find({\"born\": {\"$gte\": \"1900\"}, \"prizes.year\": {\"$gte\": \"1954\"}}, {\"born\": 1, \"prizes.year\":1, \"_id\":0}, sort=[(\"prizes.year\", 1), (\"born\", -1)]))\n",
    "for doc in docs[:5]:\n",
    "    print(doc)"
   ]
  },
  {
   "cell_type": "code",
   "execution_count": 66,
   "metadata": {},
   "outputs": [
    {
     "output_type": "stream",
     "name": "stdout",
     "text": [
      "Charpentier and Doudna\n"
     ]
    }
   ],
   "source": [
    "sample_prize = db.prizes.find_one()\n",
    "\n",
    "def all_laureates(prize):\n",
    "    sorted_laureates = sorted(prize[\"laureates\"], key=itemgetter(\"surname\"))\n",
    "\n",
    "    surnames = [laureate[\"surname\"] for laureate in sorted_laureates]\n",
    "\n",
    "    all_names = \" and \".join(surnames)\n",
    "\n",
    "    return all_names\n",
    "\n",
    "print(all_laureates(sample_prize))"
   ]
  },
  {
   "cell_type": "code",
   "execution_count": 74,
   "metadata": {},
   "outputs": [],
   "source": [
    "docs = list(db.prizes.find(filter={\"category\": \"physics\", \"laureates\": {\"$exists\": True}}, projection={\"year\": 1, \"laureates.firstname\": 1, \"laureates.surname\": 1, \"_id\": 0}, sort=[(\"year\", 1)]))"
   ]
  },
  {
   "cell_type": "code",
   "execution_count": 78,
   "metadata": {},
   "outputs": [
    {
     "output_type": "stream",
     "name": "stdout",
     "text": [
      "1901 Röntgen\n1902 Lorentz and Zeeman\n1903 Becquerel and Curie and Curie\n1904 Rayleigh\n1905 Lenard\n1906 Thomson\n1907 Michelson\n1908 Lippmann\n1909 Braun and Marconi\n1910 van der Waals\n1911 Wien\n1912 Dalén\n1913 Kamerlingh Onnes\n1914 von Laue\n1915 Bragg and Bragg\n1917 Barkla\n1918 Planck\n1919 Stark\n1920 Guillaume\n1921 Einstein\n1922 Bohr\n1923 Millikan\n1924 Siegbahn\n1925 Franck and Hertz\n1926 Perrin\n1927 Compton and Wilson\n1928 Richardson\n1929 de Broglie\n1930 Raman\n1932 Heisenberg\n1933 Dirac and Schrödinger\n1935 Chadwick\n1936 Anderson and Hess\n1937 Davisson and Thomson\n1938 Fermi\n1939 Lawrence\n1943 Stern\n1944 Rabi\n1945 Pauli\n1946 Bridgman\n1947 Appleton\n1948 Blackett\n1949 Yukawa\n1950 Powell\n1951 Cockcroft and Walton\n1952 Bloch and Purcell\n1953 Zernike\n1954 Born and Bothe\n1955 Kusch and Lamb\n1956 Bardeen and Brattain and Shockley\n1957 Lee and Yang\n1958 Cherenkov and Frank and Tamm\n1959 Chamberlain and Segrè\n1960 Glaser\n1961 Hofstadter and Mössbauer\n1962 Landau\n1963 Goeppert Mayer and Jensen and Wigner\n1964 Basov and Prokhorov and Townes\n1965 Feynman and Schwinger and Tomonaga\n1966 Kastler\n1967 Bethe\n1968 Alvarez\n1969 Gell-Mann\n1970 Alfvén and Néel\n1971 Gabor\n1972 Bardeen and Cooper and Schrieffer\n1973 Esaki and Giaever and Josephson\n1974 Hewish and Ryle\n1975 Bohr and Mottelson and Rainwater\n1976 Richter and Ting\n1977 Anderson and Mott and van Vleck\n1978 Kapitsa and Penzias and Wilson\n1979 Glashow and Salam and Weinberg\n1980 Cronin and Fitch\n1981 Bloembergen and Schawlow and Siegbahn\n1982 Wilson\n1983 Chandrasekhar and Fowler\n1984 Rubbia and van der Meer\n1985 von Klitzing\n1986 Binnig and Rohrer and Ruska\n1987 Bednorz and Müller\n1988 Lederman and Schwartz and Steinberger\n1989 Dehmelt and Paul and Ramsey\n1990 Friedman and Kendall and Taylor\n1991 de Gennes\n1992 Charpak\n1993 Hulse and Taylor Jr.\n1994 Brockhouse and Shull\n1995 Perl and Reines\n1996 Lee and Osheroff and Richardson\n1997 Chu and Cohen-Tannoudji and Phillips\n1998 Laughlin and Störmer and Tsui\n1999 't Hooft and Veltman\n2000 Alferov and Kilby and Kroemer\n2001 Cornell and Ketterle and Wieman\n2002 Davis Jr. and Giacconi and Koshiba\n2003 Abrikosov and Ginzburg and Leggett\n2004 Gross and Politzer and Wilczek\n2005 Glauber and Hall and Hänsch\n2006 Mather and Smoot\n2007 Fert and Grünberg\n2008 Kobayashi and Maskawa and Nambu\n2009 Boyle and Kao and Smith\n2010 Geim and Novoselov\n2011 Perlmutter and Riess and Schmidt\n2012 Haroche and Wineland\n2013 Englert and Higgs\n2014 Akasaki and Amano and Nakamura\n2015 Kajita and McDonald\n2016 Haldane and Kosterlitz and Thouless\n2017 Barish and Thorne and Weiss\n2018 Ashkin and Mourou and Strickland\n2019 Mayor and Peebles and Queloz\n2020 Genzel and Ghez and Penrose\n"
     ]
    }
   ],
   "source": [
    "for doc in docs:\n",
    "    print(doc[\"year\"], all_laureates(doc))"
   ]
  },
  {
   "cell_type": "code",
   "execution_count": 79,
   "metadata": {},
   "outputs": [
    {
     "output_type": "execute_result",
     "data": {
      "text/plain": [
       "['chemistry', 'literature', 'medicine', 'peace', 'physics']"
      ]
     },
     "metadata": {},
     "execution_count": 79
    }
   ],
   "source": [
    "criteria = {\"year\": \"1901\"}\n",
    "original_prize = db.prizes.distinct(\"category\", criteria)"
   ]
  },
  {
   "cell_type": "code",
   "execution_count": 90,
   "metadata": {},
   "outputs": [
    {
     "output_type": "execute_result",
     "data": {
      "text/plain": [
       "[{'year': '2020', 'category': 'chemistry'},\n",
       " {'year': '2020', 'category': 'economics'},\n",
       " {'year': '2020', 'category': 'literature'},\n",
       " {'year': '2020', 'category': 'medicine'},\n",
       " {'year': '2020', 'category': 'peace'},\n",
       " {'year': '2020', 'category': 'physics'},\n",
       " {'year': '2019', 'category': 'chemistry'},\n",
       " {'year': '2019', 'category': 'economics'},\n",
       " {'year': '2019', 'category': 'literature'},\n",
       " {'year': '2019', 'category': 'medicine'}]"
      ]
     },
     "metadata": {},
     "execution_count": 90
    }
   ],
   "source": [
    "docs = list(db.prizes.find(projection={\"year\": 1, \"category\": 1, \"_id\": 0}, sort=[(\"year\", -1), (\"category\", 1)]))\n",
    "docs[:10]"
   ]
  },
  {
   "cell_type": "code",
   "execution_count": 92,
   "metadata": {},
   "outputs": [
    {
     "output_type": "stream",
     "name": "stdout",
     "text": [
      "200 ns ± 80 ns per loop (mean ± std. dev. of 2 runs, 10 loops each)\n"
     ]
    }
   ],
   "source": [
    "%%timeit -r2 -n10\n",
    "a+b     "
   ]
  },
  {
   "cell_type": "code",
   "execution_count": 11,
   "metadata": {},
   "outputs": [
    {
     "output_type": "execute_result",
     "data": {
      "text/plain": [
       "['chemistry', 'economics', 'medicine', 'peace', 'physics']"
      ]
     },
     "metadata": {},
     "execution_count": 11
    }
   ],
   "source": [
    "db.prizes.distinct(\"category\", {\"laureates.share\": {\"$gte\": \"3\"}})"
   ]
  },
  {
   "cell_type": "code",
   "execution_count": 54,
   "metadata": {},
   "outputs": [
    {
     "output_type": "stream",
     "name": "stdout",
     "text": [
      "chemistry: 2011\neconomics: 2017\nliterature: 2020\nmedicine: 2016\npeace: 2020\nphysics: 1992\n\n"
     ]
    }
   ],
   "source": [
    "import sys\n",
    "# For each prize category, report the most recent year that a single laureate -- rather than several -- received a prize in that category.\n",
    "index_model = [(\"category\", 1), (\"year\", -1)]\n",
    "db.prizes.create_index(index_model)\n",
    "\n",
    "report=\"\"\n",
    "for category in sorted(db.prizes.distinct(\"category\")):\n",
    "    result = db.prizes.find_one(filter={\"category\": category, \"laureates.share\": \"1\"}, projection={\"category\":1, \"year\": 1, \"_id\": 0}, sort=[(\"sort\", -1)])\n",
    "    report += \"{category}: {year}\\n\".format(**result)\n",
    "\n",
    "print(report)\n",
    "    "
   ]
  },
  {
   "cell_type": "code",
   "execution_count": 75,
   "metadata": {},
   "outputs": [
    {
     "output_type": "stream",
     "name": "stdout",
     "text": [
      "[('USA', 248), ('United Kingdom', 58), ('Germany', 37), ('France', 26), ('Japan', 18)]\n"
     ]
    }
   ],
   "source": [
    "# Some countries are, for one or more laureates, both their country of birth (\"bornCountry\") and a country of affiliation for one or more of their prizes (\"prizes.affiliations.country\"). You will find the five countries of birth with the highest counts of such laureates.\n",
    "from collections import Counter\n",
    "\n",
    "db.laureates.create_index([(\"bornCountry\", 1)])\n",
    "\n",
    "country_count = {country: db.laureates.count_documents({\"bornCountry\": country, \"prizes.affiliations.country\": country}) for country in db.laureates.distinct(\"bornCountry\")}\n",
    "\n",
    "top5 = Counter(country_count).most_common(5)\n",
    "print(top5)\n",
    "\n",
    "\n",
    "\n",
    "# My initial answer(very wrong)\n",
    "# countries_list = db.laureates.distinct(key=\"bornCountry\")\n",
    "# countries_count = {}\n",
    "# for country in countries_list:\n",
    "#     countries_count[country] = 0\n",
    "\n",
    "# for laureate in db.laureates.find(filter={\"bornCountry\": {\"$exists\": True}}):\n",
    "#     if db.laureates.count_documents({\"prizes.affiliations.country\": laureate[\"bornCountry\"]}) >= 1:  <-------Terribly logically wrong\n",
    "#         countries_count[laureate[\"bornCountry\"]] += 1\n",
    "\n",
    "# list_of_set = []\n",
    "# list(sorted(countries_count.items(), key=lambda item: item[1], reverse=True))[:5]"
   ]
  },
  {
   "cell_type": "code",
   "execution_count": 83,
   "metadata": {},
   "outputs": [
    {
     "output_type": "execute_result",
     "data": {
      "text/plain": [
       "[{'year': '1969'},\n",
       " {'year': '1970'},\n",
       " {'year': '1971'},\n",
       " {'year': '1972'},\n",
       " {'year': '1973'}]"
      ]
     },
     "metadata": {},
     "execution_count": 83
    }
   ],
   "source": [
    "# You can think of the query parameters as being updated like a dictionary in Python\n",
    "list(db.prizes.find({\"category\": \"economics\"}, {\"year\": 1, \"_id\": 0}).sort(\"year\").limit(3).limit(5))"
   ]
  },
  {
   "cell_type": "code",
   "execution_count": 90,
   "metadata": {},
   "outputs": [
    {
     "output_type": "execute_result",
     "data": {
      "text/plain": [
       "[{'_id': ObjectId('5ffa97fa9d6167d9d146dfdd'),\n",
       "  'year': '1903',\n",
       "  'category': 'physics',\n",
       "  'laureates': [{'motivation': '\"in recognition of the extraordinary services he has rendered by his discovery of spontaneous radioactivity\"'},\n",
       "   {'motivation': '\"in recognition of the extraordinary services they have rendered by their joint researches on the radiation phenomena discovered by Professor Henri Becquerel\"'},\n",
       "   {'motivation': '\"in recognition of the extraordinary services they have rendered by their joint researches on the radiation phenomena discovered by Professor Henri Becquerel\"'}]},\n",
       " {'_id': ObjectId('5ffa97fa9d6167d9d146df03'),\n",
       "  'year': '1946',\n",
       "  'category': 'chemistry',\n",
       "  'laureates': [{'motivation': '\"for his discovery that enzymes can be crystallized\"'},\n",
       "   {'motivation': '\"for their preparation of enzymes and virus proteins in a pure form\"'},\n",
       "   {'motivation': '\"for their preparation of enzymes and virus proteins in a pure form\"'}]},\n",
       " {'_id': ObjectId('5ffa97fa9d6167d9d146df02'),\n",
       "  'year': '1947',\n",
       "  'category': 'medicine',\n",
       "  'laureates': [{'motivation': '\"for their discovery of the course of the catalytic conversion of glycogen\"'},\n",
       "   {'motivation': '\"for their discovery of the course of the catalytic conversion of glycogen\"'},\n",
       "   {'motivation': '\"for his discovery of the part played by the hormone of the anterior pituitary lobe in the metabolism of sugar\"'}]},\n",
       " {'_id': ObjectId('5ffa97fa9d6167d9d146decb'),\n",
       "  'year': '1958',\n",
       "  'category': 'medicine',\n",
       "  'laureates': [{'motivation': '\"for their discovery that genes act by regulating definite chemical events\"'},\n",
       "   {'motivation': '\"for their discovery that genes act by regulating definite chemical events\"'},\n",
       "   {'motivation': '\"for his discoveries concerning genetic recombination and the organization of the genetic material of bacteria\"'}]},\n",
       " {'_id': ObjectId('5ffa97fa9d6167d9d146deb1'),\n",
       "  'year': '1963',\n",
       "  'category': 'physics',\n",
       "  'laureates': [{'motivation': '\"for his contributions to the theory of the atomic nucleus and the elementary particles, particularly through the discovery and application of fundamental symmetry principles\"'},\n",
       "   {'motivation': '\"for their discoveries concerning nuclear shell structure\"'},\n",
       "   {'motivation': '\"for their discoveries concerning nuclear shell structure\"'}]}]"
      ]
     },
     "metadata": {},
     "execution_count": 90
    }
   ],
   "source": [
    "list(db.prizes.find(filter={\"laureates.share\": \"4\"}, projection={\"category\": \"1\", \"year\": \"1\", \"laureates.motivation\": \"1\"}).sort(\"year\").limit(5))"
   ]
  },
  {
   "cell_type": "code",
   "execution_count": 98,
   "metadata": {},
   "outputs": [
    {
     "output_type": "stream",
     "name": "stdout",
     "text": [
      "[{'_id': ObjectId('5ffa982f9d6167d9d146e009'),\n  'born': '1869-02-14',\n  'bornCity': 'Glencorse',\n  'bornCountry': 'Scotland',\n  'bornCountryCode': 'GB',\n  'died': '1959-11-15',\n  'diedCity': 'Carlops',\n  'diedCountry': 'Scotland',\n  'diedCountryCode': 'GB',\n  'firstname': 'C.T.R.',\n  'gender': 'male',\n  'id': '34',\n  'prizes': [{'affiliations': [{'city': 'Cambridge',\n                                'country': 'United Kingdom',\n                                'name': 'University of Cambridge'}],\n              'category': 'physics',\n              'motivation': '\"for his method of making the paths of '\n                            'electrically charged particles visible by '\n                            'condensation of vapour\"',\n              'share': '2',\n              'year': '1927'}],\n  'surname': 'Wilson'},\n {'_id': ObjectId('5ffa982f9d6167d9d146e01f'),\n  'born': '1897-05-27',\n  'bornCity': 'Todmorden',\n  'bornCountry': 'United Kingdom',\n  'bornCountryCode': 'GB',\n  'died': '1967-09-18',\n  'diedCity': 'Cambridge',\n  'diedCountry': 'United Kingdom',\n  'diedCountryCode': 'GB',\n  'firstname': 'John',\n  'gender': 'male',\n  'id': '56',\n  'prizes': [{'affiliations': [{'city': 'Harwell, Berkshire',\n                                'country': 'United Kingdom',\n                                'name': 'Atomic Energy Research '\n                                        'Establishment'}],\n              'category': 'physics',\n              'motivation': '\"for their pioneer work on the transmutation of '\n                            'atomic nuclei by artificially accelerated atomic '\n                            'particles\"',\n              'share': '2',\n              'year': '1951'}],\n  'surname': 'Cockcroft'},\n {'_id': ObjectId('5ffa982f9d6167d9d146e020'),\n  'born': '1903-10-06',\n  'bornCity': 'Dungarvan',\n  'bornCountry': 'Ireland',\n  'bornCountryCode': 'IE',\n  'died': '1995-06-25',\n  'diedCity': 'Belfast',\n  'diedCountry': 'Northern Ireland',\n  'diedCountryCode': 'GB',\n  'firstname': 'Ernest T.S.',\n  'gender': 'male',\n  'id': '57',\n  'prizes': [{'affiliations': [{'city': 'Dublin',\n                                'country': 'Ireland',\n                                'name': 'Trinity College'}],\n              'category': 'physics',\n              'motivation': '\"for their pioneer work on the transmutation of '\n                            'atomic nuclei by artificially accelerated atomic '\n                            'particles\"',\n              'share': '2',\n              'year': '1951'}],\n  'surname': 'Walton'}]\n"
     ]
    }
   ],
   "source": [
    "from pprint import pprint\n",
    "\n",
    "page_number = 1\n",
    "page_skip = 9 * (page_number - 1)\n",
    "page_size = 9\n",
    "\n",
    "def get_particle_laureates(page_number=1, page_size=3):\n",
    "    if page_number < 1 or not isinstance(page_number, int):\n",
    "        raise ValueError(\"Pages are natural numbers (starting from 1).\")\n",
    "    page_result = list(db.laureates.find(filter={\"prizes.motivation\": {\"$regex\": \"particle\"}}).sort([(\"prizes.year\", 1), (\"surname\", 1)]).skip(page_size * (page_number - 1)).limit(page_size))\n",
    "    return page_result\n",
    "\n",
    "pages = [get_particle_laureates(page_number=page) for page in range(1,10)]\n",
    "pprint(pages[0])"
   ]
  },
  {
   "cell_type": "code",
   "execution_count": null,
   "metadata": {},
   "outputs": [],
   "source": []
  }
 ]
}