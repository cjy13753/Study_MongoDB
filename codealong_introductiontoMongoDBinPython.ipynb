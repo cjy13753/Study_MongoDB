{
 "metadata": {
  "language_info": {
   "codemirror_mode": {
    "name": "ipython",
    "version": 3
   },
   "file_extension": ".py",
   "mimetype": "text/x-python",
   "name": "python",
   "nbconvert_exporter": "python",
   "pygments_lexer": "ipython3",
   "version": "3.8.5-final"
  },
  "orig_nbformat": 2,
  "kernelspec": {
   "name": "python3",
   "display_name": "Python 3",
   "language": "python"
  }
 },
 "nbformat": 4,
 "nbformat_minor": 2,
 "cells": [
  {
   "source": [
    "# Introduction to MongoDB in Python\n",
    "## 1. Flexbily Structured Data"
   ],
   "cell_type": "markdown",
   "metadata": {}
  },
  {
   "cell_type": "code",
   "execution_count": 6,
   "metadata": {},
   "outputs": [],
   "source": [
    "import os\n",
    "from pymongo import MongoClient\n",
    "\n",
    "MONGODB_URI = os.getenv('MONGODB_URI')\n",
    "\n",
    "client = MongoClient(MONGODB_URI)\n",
    "db = client[\"nobel\"]"
   ]
  },
  {
   "cell_type": "code",
   "execution_count": 7,
   "metadata": {},
   "outputs": [
    {
     "output_type": "stream",
     "name": "stdout",
     "text": [
      "652\n955\n"
     ]
    }
   ],
   "source": [
    "filter = {}\n",
    "print(db.prizes.count_documents(filter))\n",
    "print(db.laureates.count_documents(filter))"
   ]
  },
  {
   "cell_type": "code",
   "execution_count": 8,
   "metadata": {},
   "outputs": [
    {
     "output_type": "execute_result",
     "data": {
      "text/plain": [
       "['admin', 'config', 'local', 'nobel']"
      ]
     },
     "metadata": {},
     "execution_count": 8
    }
   ],
   "source": [
    "db_names = client.list_database_names()\n",
    "db_names"
   ]
  },
  {
   "cell_type": "code",
   "execution_count": 9,
   "metadata": {},
   "outputs": [
    {
     "output_type": "execute_result",
     "data": {
      "text/plain": [
       "['prizes', 'laureates']"
      ]
     },
     "metadata": {},
     "execution_count": 9
    }
   ],
   "source": [
    "nobel_coll_names = client.nobel.list_collection_names()\n",
    "nobel_coll_names"
   ]
  },
  {
   "cell_type": "code",
   "execution_count": 10,
   "metadata": {},
   "outputs": [
    {
     "output_type": "stream",
     "name": "stdout",
     "text": [
      "{'_id': ObjectId('5ffa97fa9d6167d9d146dd5d'), 'year': '2020', 'category': 'chemistry', 'laureates': [{'id': '991', 'firstname': 'Emmanuelle', 'surname': 'Charpentier', 'motivation': '\"for the development of a method for genome editing\"', 'share': '2'}, {'id': '992', 'firstname': 'Jennifer A.', 'surname': 'Doudna', 'motivation': '\"for the development of a method for genome editing\"', 'share': '2'}]}\n{'_id': ObjectId('5ffa982f9d6167d9d146dfe9'), 'id': '1', 'firstname': 'Wilhelm Conrad', 'surname': 'Röntgen', 'born': '1845-03-27', 'died': '1923-02-10', 'bornCountry': 'Prussia (now Germany)', 'bornCountryCode': 'DE', 'bornCity': 'Lennep (now Remscheid)', 'diedCountry': 'Germany', 'diedCountryCode': 'DE', 'diedCity': 'Munich', 'gender': 'male', 'prizes': [{'year': '1901', 'category': 'physics', 'share': '1', 'motivation': '\"in recognition of the extraordinary services he has rendered by the discovery of the remarkable rays subsequently named after him\"', 'affiliations': [{'name': 'Munich University', 'city': 'Munich', 'country': 'Germany'}]}]}\n<class 'dict'>\n"
     ]
    }
   ],
   "source": [
    "prize = db.prizes.find_one()\n",
    "laureate = db.laureates.find_one()\n",
    "\n",
    "print(prize)\n",
    "print(laureate)\n",
    "print(type(laureate))"
   ]
  },
  {
   "cell_type": "code",
   "execution_count": 11,
   "metadata": {},
   "outputs": [
    {
     "output_type": "stream",
     "name": "stdout",
     "text": [
      "['_id', 'year', 'category', 'laureates']\n['_id', 'id', 'firstname', 'surname', 'born', 'died', 'bornCountry', 'bornCountryCode', 'bornCity', 'diedCountry', 'diedCountryCode', 'diedCity', 'gender', 'prizes']\n"
     ]
    }
   ],
   "source": [
    "prize_fields = list(prize.keys())\n",
    "laureate_fields = list(laureate.keys())\n",
    "\n",
    "print(prize_fields)\n",
    "print(laureate_fields)"
   ]
  },
  {
   "source": [
    "## 2. Working with Distinct Values and Sets"
   ],
   "cell_type": "markdown",
   "metadata": {}
  },
  {
   "cell_type": "code",
   "execution_count": 13,
   "metadata": {},
   "outputs": [
    {
     "output_type": "execute_result",
     "data": {
      "text/plain": [
       "{'chemistry', 'economics', 'literature', 'medicine', 'peace', 'physics'}"
      ]
     },
     "metadata": {},
     "execution_count": 13
    }
   ],
   "source": [
    "set(db.prizes.distinct(\"category\"))"
   ]
  },
  {
   "cell_type": "code",
   "execution_count": 14,
   "metadata": {},
   "outputs": [
    {
     "output_type": "execute_result",
     "data": {
      "text/plain": [
       "{'chemistry', 'economics', 'literature', 'medicine', 'peace', 'physics'}"
      ]
     },
     "metadata": {},
     "execution_count": 14
    }
   ],
   "source": [
    "set(db.laureates.distinct(\"prizes.category\"))"
   ]
  },
  {
   "cell_type": "code",
   "execution_count": 17,
   "metadata": {},
   "outputs": [
    {
     "output_type": "execute_result",
     "data": {
      "text/plain": [
       "True"
      ]
     },
     "metadata": {},
     "execution_count": 17
    }
   ],
   "source": [
    "set(db.prizes.distinct(\"category\")) == set(db.laureates.distinct(\"prizes.category\"))\n"
   ]
  },
  {
   "cell_type": "code",
   "execution_count": 21,
   "metadata": {},
   "outputs": [
    {
     "output_type": "execute_result",
     "data": {
      "text/plain": [
       "{'Barbados',\n",
       " 'East Germany (now Germany)',\n",
       " 'Gabon',\n",
       " 'Greece',\n",
       " 'Israel',\n",
       " 'Jamaica',\n",
       " 'Northern Rhodesia (now Zambia)',\n",
       " 'Philippines',\n",
       " 'Puerto Rico',\n",
       " 'Singapore',\n",
       " 'Tunisia',\n",
       " 'Yugoslavia (now Serbia)'}"
      ]
     },
     "metadata": {},
     "execution_count": 21
    }
   ],
   "source": [
    "countries = set(db.laureates.distinct(\"diedCountry\")) - set(db.laureates.distinct(\"bornCountry\"))\n",
    "countries"
   ]
  },
  {
   "cell_type": "code",
   "execution_count": 22,
   "metadata": {},
   "outputs": [
    {
     "output_type": "execute_result",
     "data": {
      "text/plain": [
       "{'_id': ObjectId('5ffa982f9d6167d9d146dfe9'),\n",
       " 'id': '1',\n",
       " 'firstname': 'Wilhelm Conrad',\n",
       " 'surname': 'Röntgen',\n",
       " 'born': '1845-03-27',\n",
       " 'died': '1923-02-10',\n",
       " 'bornCountry': 'Prussia (now Germany)',\n",
       " 'bornCountryCode': 'DE',\n",
       " 'bornCity': 'Lennep (now Remscheid)',\n",
       " 'diedCountry': 'Germany',\n",
       " 'diedCountryCode': 'DE',\n",
       " 'diedCity': 'Munich',\n",
       " 'gender': 'male',\n",
       " 'prizes': [{'year': '1901',\n",
       "   'category': 'physics',\n",
       "   'share': '1',\n",
       "   'motivation': '\"in recognition of the extraordinary services he has rendered by the discovery of the remarkable rays subsequently named after him\"',\n",
       "   'affiliations': [{'name': 'Munich University',\n",
       "     'city': 'Munich',\n",
       "     'country': 'Germany'}]}]}"
      ]
     },
     "metadata": {},
     "execution_count": 22
    }
   ],
   "source": [
    "db.laureates.find_one()"
   ]
  },
  {
   "cell_type": "code",
   "execution_count": 24,
   "metadata": {},
   "outputs": [
    {
     "output_type": "execute_result",
     "data": {
      "text/plain": [
       "{'Argentina',\n",
       " 'Australia',\n",
       " 'Austria',\n",
       " 'Belgium',\n",
       " 'Canada',\n",
       " 'China',\n",
       " 'Czechoslovakia (now Czech Republic)',\n",
       " 'Denmark',\n",
       " 'Finland',\n",
       " 'France',\n",
       " 'Germany',\n",
       " 'Germany (now France)',\n",
       " 'Hungary',\n",
       " 'India',\n",
       " 'Ireland',\n",
       " 'Israel',\n",
       " 'Italy',\n",
       " 'Japan',\n",
       " 'Norway',\n",
       " 'Portugal',\n",
       " 'Russia',\n",
       " 'Spain',\n",
       " 'Sweden',\n",
       " 'Switzerland',\n",
       " 'Tunisia',\n",
       " 'USA',\n",
       " 'USSR (now Russia)',\n",
       " 'United Kingdom',\n",
       " 'the Netherlands'}"
      ]
     },
     "metadata": {},
     "execution_count": 24
    }
   ],
   "source": [
    "set(db.laureates.distinct(\"prizes.affiliations.country\"))"
   ]
  },
  {
   "cell_type": "code",
   "execution_count": 25,
   "metadata": {},
   "outputs": [
    {
     "output_type": "execute_result",
     "data": {
      "text/plain": [
       "{'_id': ObjectId('5ffa982f9d6167d9d146dfe9'),\n",
       " 'id': '1',\n",
       " 'firstname': 'Wilhelm Conrad',\n",
       " 'surname': 'Röntgen',\n",
       " 'born': '1845-03-27',\n",
       " 'died': '1923-02-10',\n",
       " 'bornCountry': 'Prussia (now Germany)',\n",
       " 'bornCountryCode': 'DE',\n",
       " 'bornCity': 'Lennep (now Remscheid)',\n",
       " 'diedCountry': 'Germany',\n",
       " 'diedCountryCode': 'DE',\n",
       " 'diedCity': 'Munich',\n",
       " 'gender': 'male',\n",
       " 'prizes': [{'year': '1901',\n",
       "   'category': 'physics',\n",
       "   'share': '1',\n",
       "   'motivation': '\"in recognition of the extraordinary services he has rendered by the discovery of the remarkable rays subsequently named after him\"',\n",
       "   'affiliations': [{'name': 'Munich University',\n",
       "     'city': 'Munich',\n",
       "     'country': 'Germany'}]}]}"
      ]
     },
     "metadata": {},
     "execution_count": 25
    }
   ],
   "source": [
    "db.laureates.find_one()"
   ]
  },
  {
   "cell_type": "code",
   "execution_count": 28,
   "metadata": {},
   "outputs": [
    {
     "output_type": "execute_result",
     "data": {
      "text/plain": [
       "['Australia', 'Denmark', 'USA', 'United Kingdom']"
      ]
     },
     "metadata": {},
     "execution_count": 28
    }
   ],
   "source": [
    "# In which countries have USA-born laureates had affiliations for their prizes?\n",
    "db.laureates.distinct(\"prizes.affiliations.country\", {\"bornCountry\": \"USA\"})"
   ]
  },
  {
   "cell_type": "code",
   "execution_count": 41,
   "metadata": {},
   "outputs": [],
   "source": [
    "# Confirm via an assertion that \"literature\" is the only prize category with no prizes shared by three or more laureates.\n",
    "criteria = {\"laureates.2\": {\"$exists\": True}}\n",
    "triple_play_categories = set(db.prizes.distinct(\"category\", criteria))\n",
    "assert set(['literature']) == set(db.prizes.distinct(\"category\")) - triple_play_categories\n"
   ]
  },
  {
   "source": [
    "# What is the approximate ratio of the number of laureates who won an unshared ({\"share\": \"1\"}) prize in physics after World War II ({\"year\": {\"$gte\": \"1945\"}}) to the number of laureates who won a shared prize in physics after World War II?\n",
    "a = db.laureates.count_documents({\"prizes\": {\"$elemMatch\": {\"share\": \"1\", \"category\": \"physics\", \"year\": {\"$gte\": \"1945\"}}}})\n",
    "b = db.laureates.count_documents({\"prizes\": {\"$elemMatch\": {\"share\": {\"$ne\": \"1\"}, \"category\": \"physics\", \"year\": {\"$gte\": \"1945\"}}}})\n",
    "a/b"
   ],
   "cell_type": "code",
   "metadata": {},
   "execution_count": 44,
   "outputs": [
    {
     "output_type": "execute_result",
     "data": {
      "text/plain": [
       "0.12080536912751678"
      ]
     },
     "metadata": {},
     "execution_count": 44
    }
   ]
  },
  {
   "cell_type": "code",
   "execution_count": 51,
   "metadata": {},
   "outputs": [
    {
     "output_type": "execute_result",
     "data": {
      "text/plain": [
       "1.348623853211009"
      ]
     },
     "metadata": {},
     "execution_count": 51
    }
   ],
   "source": [
    "# What is this ratio for prize categories other than physics, chemistry, and medicine?\n",
    "unshared = {\"prizes\": {\"$elemMatch\": {\"share\": \"1\", \"category\": {\"$nin\": [\"physics\", \"chemistry\", \"medicine\"]}, \"year\": {\"$gte\": \"1945\"}}}}\n",
    "shared = {\"prizes\": {\"$elemMatch\": {\"share\": {\"$ne\": \"1\"}, \"category\": {\"$nin\": [\"physics\", \"chemistry\", \"medicine\"]}, \"year\": {\"$gte\": \"1945\"}}}}\n",
    "count_unshared = db.laureates.count_documents(unshared)\n",
    "count_shared = db.laureates.count_documents(shared)\n",
    "ratio = count_unshared / count_shared\n",
    "ratio"
   ]
  },
  {
   "cell_type": "code",
   "execution_count": 52,
   "metadata": {},
   "outputs": [
    {
     "output_type": "execute_result",
     "data": {
      "text/plain": [
       "0.8461538461538461"
      ]
     },
     "metadata": {},
     "execution_count": 52
    }
   ],
   "source": [
    "before = {\"gender\": \"org\", \"prizes.year\": {\"$lt\": \"1945\"}}\n",
    "in_or_after = {\"gender\": \"org\", \"prizes.year\": {\"$gte\": \"1945\"}}\n",
    "count_before = db.laureates.count_documents(before)\n",
    "count_in_or_after = db.laureates.count_documents(in_or_after)\n",
    "ratio = count_in_or_after / (count_before + count_in_or_after)\n",
    "ratio"
   ]
  },
  {
   "cell_type": "code",
   "execution_count": 53,
   "metadata": {},
   "outputs": [
    {
     "output_type": "execute_result",
     "data": {
      "text/plain": [
       "10"
      ]
     },
     "metadata": {},
     "execution_count": 53
    }
   ],
   "source": [
    "# How many laureates in total have a first name beginning with \"G\" and a surname beginning with \"S\"?\n",
    "from bson.regex import Regex\n",
    "db.laureates.count_documents({\"firstname\": Regex(\"^G\"), \"surname\": Regex(\"^S\")})"
   ]
  },
  {
   "cell_type": "code",
   "execution_count": 54,
   "metadata": {},
   "outputs": [
    {
     "output_type": "execute_result",
     "data": {
      "text/plain": [
       "{'Bavaria (now Germany)',\n",
       " 'East Friesland (now Germany)',\n",
       " 'Germany',\n",
       " 'Germany (now France)',\n",
       " 'Germany (now Poland)',\n",
       " 'Germany (now Russia)',\n",
       " 'Hesse-Kassel (now Germany)',\n",
       " 'Mecklenburg (now Germany)',\n",
       " 'Prussia (now Germany)',\n",
       " 'Schleswig (now Germany)',\n",
       " 'West Germany (now Germany)',\n",
       " 'Württemberg (now Germany)'}"
      ]
     },
     "metadata": {},
     "execution_count": 54
    }
   ],
   "source": [
    "# Use a regular expression object to filter for laureates with \"Germany\" in their \"bornCountry\" value.\n",
    "criteria = {\"bornCountry\": Regex(\"Germany\")}\n",
    "set(db.laureates.distinct(\"bornCountry\", criteria))"
   ]
  },
  {
   "cell_type": "code",
   "execution_count": 55,
   "metadata": {},
   "outputs": [
    {
     "output_type": "execute_result",
     "data": {
      "text/plain": [
       "{'Germany',\n",
       " 'Germany (now France)',\n",
       " 'Germany (now Poland)',\n",
       " 'Germany (now Russia)'}"
      ]
     },
     "metadata": {},
     "execution_count": 55
    }
   ],
   "source": [
    "# Use a regular expression object to filter for laureates with a \"bornCountry\" value starting with \"Germany\".\n",
    "criteria = {\"bornCountry\": Regex(\"^Germany\")}\n",
    "set(db.laureates.distinct(\"bornCountry\", criteria))"
   ]
  },
  {
   "cell_type": "code",
   "execution_count": 57,
   "metadata": {},
   "outputs": [
    {
     "output_type": "execute_result",
     "data": {
      "text/plain": [
       "{'Germany (now France)', 'Germany (now Poland)', 'Germany (now Russia)'}"
      ]
     },
     "metadata": {},
     "execution_count": 57
    }
   ],
   "source": [
    "# Use a regular expression object to filter for laureates born in what was at the time Germany but is now another country.\n",
    "criteria = {\"bornCountry\": Regex(\"^Germany \\(now\")}\n",
    "set(db.laureates.distinct(\"bornCountry\", criteria))"
   ]
  },
  {
   "cell_type": "code",
   "execution_count": 58,
   "metadata": {},
   "outputs": [
    {
     "output_type": "execute_result",
     "data": {
      "text/plain": [
       "{'Bavaria (now Germany)',\n",
       " 'East Friesland (now Germany)',\n",
       " 'Hesse-Kassel (now Germany)',\n",
       " 'Mecklenburg (now Germany)',\n",
       " 'Prussia (now Germany)',\n",
       " 'Schleswig (now Germany)',\n",
       " 'West Germany (now Germany)',\n",
       " 'Württemberg (now Germany)'}"
      ]
     },
     "metadata": {},
     "execution_count": 58
    }
   ],
   "source": [
    "# Use a regular expression object to filter for laureates born in what is now Germany but at the time was another country.\n",
    "criteria = {\"bornCountry\": Regex(\"now Germany\\)$\")}\n",
    "set(db.laureates.distinct(\"bornCountry\", criteria))"
   ]
  },
  {
   "cell_type": "code",
   "execution_count": 60,
   "metadata": {},
   "outputs": [
    {
     "output_type": "stream",
     "name": "stdout",
     "text": [
      "[('William B.', 'Shockley'), ('John', 'Bardeen'), ('Walter H.', 'Brattain')]\n"
     ]
    }
   ],
   "source": [
    "# We can filter on \"transistor\" as a substring of a laureate's \"prizes.motivation\" field value to find these laureates.\n",
    "criteria = {\"prizes.motivation\": Regex(\"transistor\")}\n",
    "first = \"firstname\"\n",
    "last = \"surname\"\n",
    "print([(laureate[first], laureate[last]) for laureate in db.laureates.find(criteria)])"
   ]
  }
 ]
}